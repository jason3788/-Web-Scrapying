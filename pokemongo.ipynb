{
 "cells": [
  {
   "cell_type": "code",
   "execution_count": 3,
   "id": "ff971616",
   "metadata": {
    "id": "ff971616",
    "scrolled": true
   },
   "outputs": [],
   "source": [
    "import requests\n",
    "from bs4 import BeautifulSoup\n",
    "import os"
   ]
  },
  {
   "cell_type": "code",
   "execution_count": 4,
   "id": "a56bb2bc",
   "metadata": {
    "id": "a56bb2bc"
   },
   "outputs": [],
   "source": [
    "# 使用requests取得網頁內容\n",
    "web = requests.get('https://tw.portal-pokemon.com/play/pokedex/0001')\n",
    "# 使用beautifulsoup對取得的html內容進行解析\n",
    "soup = BeautifulSoup(web.text, \"html.parser\")\n",
    "# 從meta取得img資訊\n",
    "img = soup.select('meta[property=\"og:image\"]')\n",
    "# 寶可夢圖片的連結\n",
    "img_url = img[0]['content']\n",
    "# 從meta取得keywords資訊\n",
    "keywords = soup.select('meta[name=\"keywords\"]')[0]['content']\n",
    "# 寶可夢的關鍵字，第1個為寶可夢名字\n",
    "name = keywords.split(',')[0]\n",
    "\n",
    "# 下載圖片\n",
    "img_file = requests.get(img_url)\n",
    "f = open('pokemon/0001.png', 'wb')\n",
    "f.write(img_file.content)\n",
    "f.close()"
   ]
  },
  {
   "cell_type": "code",
   "execution_count": 5,
   "id": "e321273e",
   "metadata": {
    "id": "e321273e"
   },
   "outputs": [],
   "source": [
    "file = open('pokemon.csv', 'w', encoding = 'utf-8-sig')\n",
    "for i in range(1,50):\n",
    "    index = str(i).zfill(4)\n",
    "    # 使用requests取得網頁內容\n",
    "    web = requests.get('https://tw.portal-pokemon.com/play/pokedex/{}'.format(index))\n",
    "    # 使用beautifulsoup對取得的html內容進行解析\n",
    "    soup = BeautifulSoup(web.text, \"html.parser\")\n",
    "    # 從meta取得img資訊\n",
    "    img = soup.select('meta[property=\"og:image\"]')\n",
    "    # 寶可夢圖片的連結\n",
    "    img_url = img[0]['content']\n",
    "    # 從meta取得keywords資訊\n",
    "    keywords = soup.select('meta[name=\"keywords\"]')[0]['content']\n",
    "    # 寶可夢的關鍵字，第1個為寶可夢名字\n",
    "    name = keywords.split(',')[0]\n",
    "    file.write('{},{}\\n'.format(index, name))\n",
    "\n",
    "    # 下載圖片\n",
    "    img_file = requests.get(img_url)\n",
    "    f = open('pokemon/{}.png'.format(index), 'wb')\n",
    "    f.write(img_file.content)\n",
    "    f.close()\n",
    "\n",
    "file.close()"
   ]
  },
  {
   "cell_type": "code",
   "execution_count": 6,
   "id": "8aa56617",
   "metadata": {
    "id": "8aa56617",
    "outputId": "fd5bb256-d745-4663-9819-830a353361de"
   },
   "outputs": [
    {
     "name": "stdout",
     "output_type": "stream",
     "text": [
      "0.7 m\n"
     ]
    }
   ],
   "source": [
    "# 使用requests取得網頁內容\n",
    "web = requests.get('https://tw.portal-pokemon.com/play/pokedex/0001')\n",
    "# 使用beautifulsoup對取得的html內容進行解析\n",
    "soup = BeautifulSoup(web.text, \"html.parser\")\n",
    "height = soup.select('span[class~=\"pokemon-info__value\"]')[0].text\n",
    "print(height)"
   ]
  },
  {
   "cell_type": "code",
   "execution_count": 7,
   "id": "fb493b5f",
   "metadata": {
    "id": "fb493b5f",
    "outputId": "879d1ed9-8103-4f09-8b79-f3fb9509dc4a"
   },
   "outputs": [
    {
     "name": "stdout",
     "output_type": "stream",
     "text": [
      "草\n",
      "毒\n"
     ]
    }
   ],
   "source": [
    "# 使用requests取得網頁內容\n",
    "web = requests.get('https://tw.portal-pokemon.com/play/pokedex/0001')\n",
    "# 使用beautifulsoup對取得的html內容進行解析\n",
    "soup = BeautifulSoup(web.text, \"html.parser\")\n",
    "types = soup.select('div[class~=\"pokemon-type__type\"] span')\n",
    "for t in types:\n",
    "    print(t.text)"
   ]
  }
 ],
 "metadata": {
  "colab": {
   "provenance": []
  },
  "kernelspec": {
   "display_name": "Python 3 (ipykernel)",
   "language": "python",
   "name": "python3"
  },
  "language_info": {
   "codemirror_mode": {
    "name": "ipython",
    "version": 3
   },
   "file_extension": ".py",
   "mimetype": "text/x-python",
   "name": "python",
   "nbconvert_exporter": "python",
   "pygments_lexer": "ipython3",
   "version": "3.11.7"
  }
 },
 "nbformat": 4,
 "nbformat_minor": 5
}
